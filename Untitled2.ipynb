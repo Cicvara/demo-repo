{
  "nbformat": 4,
  "nbformat_minor": 0,
  "metadata": {
    "colab": {
      "provenance": [],
      "authorship_tag": "ABX9TyMY9KM26CkPCfqyGSravVIL",
      "include_colab_link": true
    },
    "kernelspec": {
      "name": "python3",
      "display_name": "Python 3"
    },
    "language_info": {
      "name": "python"
    }
  },
  "cells": [
    {
      "cell_type": "markdown",
      "metadata": {
        "id": "view-in-github",
        "colab_type": "text"
      },
      "source": [
        "<a href=\"https://colab.research.google.com/github/Cicvara/demo-repo/blob/main/Untitled2.ipynb\" target=\"_parent\"><img src=\"https://colab.research.google.com/assets/colab-badge.svg\" alt=\"Open In Colab\"/></a>"
      ]
    },
    {
      "cell_type": "code",
      "execution_count": 1,
      "metadata": {
        "colab": {
          "base_uri": "https://localhost:8080/"
        },
        "id": "VGWSb9ONyll0",
        "outputId": "13022157-b5b3-41d5-e451-b49a99784553"
      },
      "outputs": [
        {
          "output_type": "execute_result",
          "data": {
            "text/plain": [
              "2"
            ]
          },
          "metadata": {},
          "execution_count": 1
        }
      ],
      "source": [
        "def lesser_of_two_evens(a, b):\n",
        "  if a % 2 == 0 and b % 2 == 0:\n",
        "    if a < b:\n",
        "      return a\n",
        "    else:\n",
        "      return b\n",
        "  else:\n",
        "    if a < b:\n",
        "      return b\n",
        "    else:\n",
        "      return a\n",
        "\n",
        "lesser_of_two_evens(2, 4)"
      ]
    },
    {
      "cell_type": "code",
      "source": [
        "lesser_of_two_evens(2, 5)"
      ],
      "metadata": {
        "colab": {
          "base_uri": "https://localhost:8080/"
        },
        "id": "wjLBldm9zX1Z",
        "outputId": "ac534af5-82b5-4174-9365-9c50edec50ae"
      },
      "execution_count": 2,
      "outputs": [
        {
          "output_type": "execute_result",
          "data": {
            "text/plain": [
              "5"
            ]
          },
          "metadata": {},
          "execution_count": 2
        }
      ]
    },
    {
      "cell_type": "code",
      "source": [
        "def animal_crackers(text):\n",
        "  split_text = text.split(' ')\n",
        "\n",
        "  if split_text[0][0] == split_text[1][0]:\n",
        "    return True\n",
        "  else:\n",
        "    return False"
      ],
      "metadata": {
        "id": "mg10QU28zdDO"
      },
      "execution_count": 12,
      "outputs": []
    },
    {
      "cell_type": "code",
      "source": [
        "animal_crackers('Levelheaded Llama')"
      ],
      "metadata": {
        "colab": {
          "base_uri": "https://localhost:8080/"
        },
        "id": "_uWcqoF80KxA",
        "outputId": "e04f903a-c393-4496-c307-b47af35bb86c"
      },
      "execution_count": 10,
      "outputs": [
        {
          "output_type": "execute_result",
          "data": {
            "text/plain": [
              "True"
            ]
          },
          "metadata": {},
          "execution_count": 10
        }
      ]
    },
    {
      "cell_type": "code",
      "source": [
        "animal_crackers('Crazy Kangaroo')"
      ],
      "metadata": {
        "colab": {
          "base_uri": "https://localhost:8080/"
        },
        "id": "kMwe4Xw20vZu",
        "outputId": "714ae196-2217-473b-9721-4a241d2bb774"
      },
      "execution_count": 11,
      "outputs": [
        {
          "output_type": "execute_result",
          "data": {
            "text/plain": [
              "False"
            ]
          },
          "metadata": {},
          "execution_count": 11
        }
      ]
    },
    {
      "cell_type": "code",
      "source": [
        "def makes_twenty(n1, n2):\n",
        "  if n1 + n2 == 20 or (n1 == 20 or n2 == 20):\n",
        "    return True\n",
        "  else:\n",
        "    return False"
      ],
      "metadata": {
        "id": "q4IaI5HS0xib"
      },
      "execution_count": 13,
      "outputs": []
    },
    {
      "cell_type": "code",
      "source": [
        "makes_twenty(10,20)"
      ],
      "metadata": {
        "colab": {
          "base_uri": "https://localhost:8080/"
        },
        "id": "E7FEUQbq2Jdf",
        "outputId": "ff2c726b-0953-446b-a426-51821708a96e"
      },
      "execution_count": 16,
      "outputs": [
        {
          "output_type": "execute_result",
          "data": {
            "text/plain": [
              "True"
            ]
          },
          "metadata": {},
          "execution_count": 16
        }
      ]
    },
    {
      "cell_type": "code",
      "source": [
        "makes_twenty(2,3)"
      ],
      "metadata": {
        "colab": {
          "base_uri": "https://localhost:8080/"
        },
        "id": "iJN-h89e2LYY",
        "outputId": "d04080dd-5d88-49e5-fcb5-e9dedddeab3f"
      },
      "execution_count": 17,
      "outputs": [
        {
          "output_type": "execute_result",
          "data": {
            "text/plain": [
              "False"
            ]
          },
          "metadata": {},
          "execution_count": 17
        }
      ]
    },
    {
      "cell_type": "code",
      "source": [
        "def old_macdonald(name):\n",
        "  empty_st = ''\n",
        "  for index, letter in enumerate(name):\n",
        "    if index == 0 or index == 3:\n",
        "      empty_st += letter.upper()\n",
        "    else:\n",
        "      empty_st += letter\n",
        "  return empty_st\n",
        "\n",
        "\n",
        "\n",
        "\n"
      ],
      "metadata": {
        "id": "620ILzxw2N7n"
      },
      "execution_count": 28,
      "outputs": []
    },
    {
      "cell_type": "code",
      "source": [
        "old_macdonald('macdonald')"
      ],
      "metadata": {
        "colab": {
          "base_uri": "https://localhost:8080/",
          "height": 35
        },
        "id": "MZtoMq9r259_",
        "outputId": "fa837c53-fa81-4991-e60d-331d8c58c797"
      },
      "execution_count": 31,
      "outputs": [
        {
          "output_type": "execute_result",
          "data": {
            "text/plain": [
              "'MacDonald'"
            ],
            "application/vnd.google.colaboratory.intrinsic+json": {
              "type": "string"
            }
          },
          "metadata": {},
          "execution_count": 31
        }
      ]
    },
    {
      "cell_type": "code",
      "source": [
        "def master_yoda(text):\n",
        "  split_text = text.split()\n",
        "  split_text.reverse()\n",
        "  return ' '.join(split_text)\n",
        "\n",
        "\n"
      ],
      "metadata": {
        "id": "eJH14UCV27xo"
      },
      "execution_count": 34,
      "outputs": []
    },
    {
      "cell_type": "code",
      "source": [
        "master_yoda('I am home')"
      ],
      "metadata": {
        "colab": {
          "base_uri": "https://localhost:8080/",
          "height": 35
        },
        "id": "tilhR0Dt6yTm",
        "outputId": "358dfc8e-272b-48a4-cfc7-3c63fa6d3140"
      },
      "execution_count": 35,
      "outputs": [
        {
          "output_type": "execute_result",
          "data": {
            "text/plain": [
              "'home am I'"
            ],
            "application/vnd.google.colaboratory.intrinsic+json": {
              "type": "string"
            }
          },
          "metadata": {},
          "execution_count": 35
        }
      ]
    },
    {
      "cell_type": "code",
      "source": [
        "master_yoda('We are ready')"
      ],
      "metadata": {
        "colab": {
          "base_uri": "https://localhost:8080/",
          "height": 35
        },
        "id": "Iw0iZFqR611u",
        "outputId": "0b2e756c-e2d1-4cc2-c8c0-7292e77ad913"
      },
      "execution_count": 36,
      "outputs": [
        {
          "output_type": "execute_result",
          "data": {
            "text/plain": [
              "'ready are We'"
            ],
            "application/vnd.google.colaboratory.intrinsic+json": {
              "type": "string"
            }
          },
          "metadata": {},
          "execution_count": 36
        }
      ]
    },
    {
      "cell_type": "code",
      "source": [
        "def almost_there(n):\n",
        "  if abs(n - 100) <= 10 or abs(n - 200) <= 10:\n",
        "    return True\n",
        "  else:\n",
        "    return False\n"
      ],
      "metadata": {
        "id": "fzGjSU_w7JPk"
      },
      "execution_count": 37,
      "outputs": []
    },
    {
      "cell_type": "code",
      "source": [
        "almost_there(104)"
      ],
      "metadata": {
        "colab": {
          "base_uri": "https://localhost:8080/"
        },
        "id": "42f7zfc-741X",
        "outputId": "68d59dee-4e6e-4b95-9b49-6e9728e01107"
      },
      "execution_count": 38,
      "outputs": [
        {
          "output_type": "execute_result",
          "data": {
            "text/plain": [
              "True"
            ]
          },
          "metadata": {},
          "execution_count": 38
        }
      ]
    },
    {
      "cell_type": "code",
      "source": [
        "almost_there(150)"
      ],
      "metadata": {
        "colab": {
          "base_uri": "https://localhost:8080/"
        },
        "id": "sUwan6Ti76e8",
        "outputId": "2d2ccfce-6a9d-417d-a9ea-64c5a0bd0070"
      },
      "execution_count": 39,
      "outputs": [
        {
          "output_type": "execute_result",
          "data": {
            "text/plain": [
              "False"
            ]
          },
          "metadata": {},
          "execution_count": 39
        }
      ]
    },
    {
      "cell_type": "code",
      "source": [
        "almost_there(209)"
      ],
      "metadata": {
        "colab": {
          "base_uri": "https://localhost:8080/"
        },
        "id": "o4Bnesev78CE",
        "outputId": "f5fae7d8-fb93-4c49-bda5-af827b763faf"
      },
      "execution_count": 40,
      "outputs": [
        {
          "output_type": "execute_result",
          "data": {
            "text/plain": [
              "True"
            ]
          },
          "metadata": {},
          "execution_count": 40
        }
      ]
    },
    {
      "cell_type": "code",
      "source": [
        "def has_33(nums):\n",
        "  print(len(nums))\n",
        "  for i in range(0, len(nums) - 1):\n",
        "    if nums[i] == 3 and nums[i + 1] == 3:\n",
        "      return True"
      ],
      "metadata": {
        "id": "JjbpHj9U79zO"
      },
      "execution_count": 190,
      "outputs": []
    },
    {
      "cell_type": "code",
      "source": [
        "has_33([1, 3, 3])"
      ],
      "metadata": {
        "colab": {
          "base_uri": "https://localhost:8080/"
        },
        "id": "x5FnpZz49Rbi",
        "outputId": "33092716-da20-4aee-ebe0-e4f8f42eb874"
      },
      "execution_count": 191,
      "outputs": [
        {
          "output_type": "stream",
          "name": "stdout",
          "text": [
            "3\n"
          ]
        },
        {
          "output_type": "execute_result",
          "data": {
            "text/plain": [
              "True"
            ]
          },
          "metadata": {},
          "execution_count": 191
        }
      ]
    },
    {
      "cell_type": "code",
      "source": [
        "has_33([1, 3, 1, 3])"
      ],
      "metadata": {
        "id": "iedfxMGf9Tsi"
      },
      "execution_count": 128,
      "outputs": []
    },
    {
      "cell_type": "code",
      "source": [
        "has_33([3, 1, 3, 3])"
      ],
      "metadata": {
        "colab": {
          "base_uri": "https://localhost:8080/"
        },
        "id": "9rAckHEu_2zu",
        "outputId": "c0c3c506-a64b-4b03-a360-815167fc0761"
      },
      "execution_count": 130,
      "outputs": [
        {
          "output_type": "execute_result",
          "data": {
            "text/plain": [
              "True"
            ]
          },
          "metadata": {},
          "execution_count": 130
        }
      ]
    },
    {
      "cell_type": "code",
      "source": [
        "def paper_doll(text):\n",
        "  empty_list = []\n",
        "  for char in text:\n",
        "    empty_list.append(char * 3)\n",
        "    new_text = ''.join(empty_list)\n",
        "  print(new_text)"
      ],
      "metadata": {
        "id": "BPnQTIlfH3sr"
      },
      "execution_count": 137,
      "outputs": []
    },
    {
      "cell_type": "code",
      "source": [
        "paper_doll('Hello')"
      ],
      "metadata": {
        "colab": {
          "base_uri": "https://localhost:8080/"
        },
        "id": "cc2bRbw_JdT-",
        "outputId": "51fe88c4-fd85-4a91-d87a-7a7022da74b0"
      },
      "execution_count": 139,
      "outputs": [
        {
          "output_type": "stream",
          "name": "stdout",
          "text": [
            "HHHeeellllllooo\n"
          ]
        }
      ]
    },
    {
      "cell_type": "code",
      "source": [
        "paper_doll('Mississippi')"
      ],
      "metadata": {
        "colab": {
          "base_uri": "https://localhost:8080/"
        },
        "id": "UI7fRfiPJe0J",
        "outputId": "7ecd5d77-8eda-4ee1-9313-c28b0ee63083"
      },
      "execution_count": 140,
      "outputs": [
        {
          "output_type": "stream",
          "name": "stdout",
          "text": [
            "MMMiiissssssiiissssssiiippppppiii\n"
          ]
        }
      ]
    },
    {
      "cell_type": "code",
      "source": [
        "def blackjack(a,b,c):\n",
        "    my_list = [a, b, c]\n",
        "    summed = sum(my_list)\n",
        "    if summed <= 21:\n",
        "      return summed\n",
        "    elif summed > 21 and (a == 11 or b == 11 or c == 11):\n",
        "      summed -= 10\n",
        "    else:\n",
        "      return 'BUST'\n",
        "    return summed"
      ],
      "metadata": {
        "id": "6Jftb5S4KO2R"
      },
      "execution_count": 147,
      "outputs": []
    },
    {
      "cell_type": "code",
      "source": [
        "blackjack(5,6,7)"
      ],
      "metadata": {
        "colab": {
          "base_uri": "https://localhost:8080/"
        },
        "id": "fQniOxapg8Da",
        "outputId": "3f364c22-4236-4d5d-a898-89ef84ebca17"
      },
      "execution_count": 149,
      "outputs": [
        {
          "output_type": "execute_result",
          "data": {
            "text/plain": [
              "18"
            ]
          },
          "metadata": {},
          "execution_count": 149
        }
      ]
    },
    {
      "cell_type": "code",
      "source": [
        "blackjack(9,9,9)"
      ],
      "metadata": {
        "colab": {
          "base_uri": "https://localhost:8080/",
          "height": 35
        },
        "id": "KMMalnGLg9yb",
        "outputId": "f3b68d01-693b-4e7c-e936-4922e1912025"
      },
      "execution_count": 150,
      "outputs": [
        {
          "output_type": "execute_result",
          "data": {
            "text/plain": [
              "'BUST'"
            ],
            "application/vnd.google.colaboratory.intrinsic+json": {
              "type": "string"
            }
          },
          "metadata": {},
          "execution_count": 150
        }
      ]
    },
    {
      "cell_type": "code",
      "source": [
        "blackjack(9,9,11)"
      ],
      "metadata": {
        "colab": {
          "base_uri": "https://localhost:8080/"
        },
        "id": "sCWngyg0hBeD",
        "outputId": "40ab91b7-e5f2-4afd-8d8f-403cd85debfb"
      },
      "execution_count": 151,
      "outputs": [
        {
          "output_type": "execute_result",
          "data": {
            "text/plain": [
              "19"
            ]
          },
          "metadata": {},
          "execution_count": 151
        }
      ]
    },
    {
      "cell_type": "code",
      "source": [
        "def summer_69(arr):\n",
        "    total_sum = 0\n",
        "    ignore_section = False\n",
        "    if 6 not in arr:\n",
        "      return 0;\n",
        "    for num in arr:\n",
        "        if num == 6:\n",
        "            ignore_section = True\n",
        "        elif num == 9:\n",
        "            ignore_section = False\n",
        "        elif ignore_section is False:\n",
        "            total_sum += num\n",
        "\n",
        "    return total_sum"
      ],
      "metadata": {
        "id": "StdpYF9lhDo2"
      },
      "execution_count": 173,
      "outputs": []
    },
    {
      "cell_type": "code",
      "source": [
        "summer_69([4, 5, 6, 7, 8, 9])"
      ],
      "metadata": {
        "colab": {
          "base_uri": "https://localhost:8080/"
        },
        "id": "B7HpEdvEjaYw",
        "outputId": "22f0ed8f-1e9b-4bb1-908c-c30ede8ca5a4"
      },
      "execution_count": 174,
      "outputs": [
        {
          "output_type": "execute_result",
          "data": {
            "text/plain": [
              "9"
            ]
          },
          "metadata": {},
          "execution_count": 174
        }
      ]
    },
    {
      "cell_type": "code",
      "source": [
        "summer_69([1, 3, 5])"
      ],
      "metadata": {
        "colab": {
          "base_uri": "https://localhost:8080/"
        },
        "id": "Fpp3Cpppjno0",
        "outputId": "64c68f10-75d7-45b0-a7ab-d98bc1884f15"
      },
      "execution_count": 175,
      "outputs": [
        {
          "output_type": "execute_result",
          "data": {
            "text/plain": [
              "0"
            ]
          },
          "metadata": {},
          "execution_count": 175
        }
      ]
    },
    {
      "cell_type": "code",
      "source": [
        "summer_69([2, 1, 6, 9, 11])"
      ],
      "metadata": {
        "colab": {
          "base_uri": "https://localhost:8080/"
        },
        "id": "4jI9WG1al42P",
        "outputId": "7a9a6745-9d4f-4045-b53a-21a4c835ee6f"
      },
      "execution_count": 176,
      "outputs": [
        {
          "output_type": "execute_result",
          "data": {
            "text/plain": [
              "14"
            ]
          },
          "metadata": {},
          "execution_count": 176
        }
      ]
    },
    {
      "cell_type": "code",
      "source": [
        "def spy_game(nums):\n",
        "    code = [0, 0, 7]  # The sequence to match\n",
        "    code_index = 0    # Index to track the position in the code sequence\n",
        "\n",
        "    for num in nums:\n",
        "        if num == code[code_index]:\n",
        "            code_index += 1\n",
        "            if code_index == len(code):\n",
        "                return True\n",
        "\n",
        "    return False\n"
      ],
      "metadata": {
        "id": "cp9tMAcUmVYh"
      },
      "execution_count": 177,
      "outputs": []
    },
    {
      "cell_type": "code",
      "source": [
        "def count_primes(num):\n",
        "    counter = 0\n",
        "    for i in range(1, num):\n",
        "      if i % 1 == 1 and i % i == 1:\n",
        "        counter += 1\n",
        "    return counter\n"
      ],
      "metadata": {
        "id": "_4qtVkuiqSjQ"
      },
      "execution_count": 188,
      "outputs": []
    },
    {
      "cell_type": "code",
      "source": [
        "count_primes(100)"
      ],
      "metadata": {
        "colab": {
          "base_uri": "https://localhost:8080/"
        },
        "id": "Y6fQY8S89767",
        "outputId": "a5e6a860-8e17-4a1e-9ff6-df3c6fa88a5c"
      },
      "execution_count": 189,
      "outputs": [
        {
          "output_type": "execute_result",
          "data": {
            "text/plain": [
              "0"
            ]
          },
          "metadata": {},
          "execution_count": 189
        }
      ]
    },
    {
      "cell_type": "code",
      "source": [
        "3 % 1"
      ],
      "metadata": {
        "colab": {
          "base_uri": "https://localhost:8080/"
        },
        "id": "Y-xdJSuu99uh",
        "outputId": "727a0acf-1b48-4fe9-bb0f-c6be2b3e7579"
      },
      "execution_count": 179,
      "outputs": [
        {
          "output_type": "execute_result",
          "data": {
            "text/plain": [
              "0"
            ]
          },
          "metadata": {},
          "execution_count": 179
        }
      ]
    },
    {
      "cell_type": "code",
      "source": [],
      "metadata": {
        "id": "mEvIV3189_8s"
      },
      "execution_count": null,
      "outputs": []
    }
  ]
}